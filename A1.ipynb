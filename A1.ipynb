{
 "cells": [
  {
   "cell_type": "code",
   "execution_count": 1,
   "id": "d00c6e0c",
   "metadata": {},
   "outputs": [],
   "source": [
    "import gzip\n",
    "import json\n",
    "import warnings\n",
    "import collections\n",
    "import numpy as np\n",
    "import pandas as pd\n",
    "#from sklearn.preprocessing import OneHotEncoder\n",
    "import timeit"
   ]
  },
  {
   "cell_type": "code",
   "execution_count": 2,
   "id": "bf942587",
   "metadata": {},
   "outputs": [
    {
     "name": "stdout",
     "output_type": "stream",
     "text": [
      "  species     island  culmen_length_mm  culmen_depth_mm  flipper_length_mm  \\\n",
      "0  Adelie  Torgersen              39.1             18.7                181   \n",
      "1  Adelie  Torgersen              39.5             17.4                186   \n",
      "2  Adelie  Torgersen              40.3             18.0                195   \n",
      "3  Adelie  Torgersen              36.7             19.3                193   \n",
      "4  Adelie  Torgersen              39.3             20.6                190   \n",
      "\n",
      "   body_mass_g     sex  \n",
      "0         3750    MALE  \n",
      "1         3800  FEMALE  \n",
      "2         3250  FEMALE  \n",
      "3         3450  FEMALE  \n",
      "4         3650    MALE  \n"
     ]
    }
   ],
   "source": [
    "#read the dataset\n",
    "file_path_penguins =\"penguins.csv\"\n",
    "data_set_penguins = pd.read_csv(file_path_penguins)\n",
    "print(data_set_penguins.head())"
   ]
  },
  {
   "cell_type": "code",
   "execution_count": 3,
   "id": "0984496d",
   "metadata": {},
   "outputs": [
    {
     "name": "stdout",
     "output_type": "stream",
     "text": [
      "  species  culmen_length_mm  culmen_depth_mm  flipper_length_mm  body_mass_g  \\\n",
      "0  Adelie              39.1             18.7                181         3750   \n",
      "1  Adelie              39.5             17.4                186         3800   \n",
      "2  Adelie              40.3             18.0                195         3250   \n",
      "3  Adelie              36.7             19.3                193         3450   \n",
      "4  Adelie              39.3             20.6                190         3650   \n",
      "\n",
      "   island_Biscoe  island_Dream  island_Torgersen  sex_FEMALE  sex_MALE  \n",
      "0              0             0                 1           0         1  \n",
      "1              0             0                 1           1         0  \n",
      "2              0             0                 1           1         0  \n",
      "3              0             0                 1           1         0  \n",
      "4              0             0                 1           0         1  \n"
     ]
    }
   ],
   "source": [
    "#convert island and sex to 1-hot vectors \n",
    "island_one_hot = pd.get_dummies(data_set_penguins['island'], prefix='island')\n",
    "sex_one_hot = pd.get_dummies(data_set_penguins['sex'], prefix='sex')\n",
    "df = pd.concat([data_set_penguins,island_one_hot, sex_one_hot], axis=1)\n",
    "df = df.drop(['island', 'sex'], axis=1)\n",
    "print(df.head())\n",
    "df.to_csv('one_hot_penguins.csv', index=False)"
   ]
  },
  {
   "cell_type": "code",
   "execution_count": 4,
   "id": "e599bdf9",
   "metadata": {},
   "outputs": [
    {
     "name": "stdout",
     "output_type": "stream",
     "text": [
      "  species  island  culmen_length_mm  culmen_depth_mm  flipper_length_mm  \\\n",
      "0  Adelie       2              39.1             18.7                181   \n",
      "1  Adelie       2              39.5             17.4                186   \n",
      "2  Adelie       2              40.3             18.0                195   \n",
      "3  Adelie       2              36.7             19.3                193   \n",
      "4  Adelie       2              39.3             20.6                190   \n",
      "\n",
      "   body_mass_g  sex  \n",
      "0         3750    1  \n",
      "1         3800    0  \n",
      "2         3250    0  \n",
      "3         3450    0  \n",
      "4         3650    1  \n"
     ]
    }
   ],
   "source": [
    "# manual conversion using categorization\n",
    "manual_cat = data_set_penguins\n",
    "manual_cat['island'] = pd.Categorical(manual_cat['island']).codes\n",
    "manual_cat['sex'] = pd.Categorical(manual_cat['sex']).codes\n",
    "print(manual_cat.head())\n",
    "manual_cat.to_csv('manual_cat_penguins.csv', index=False)"
   ]
  },
  {
   "cell_type": "code",
   "execution_count": null,
   "id": "2deae7ea",
   "metadata": {},
   "outputs": [],
   "source": []
  }
 ],
 "metadata": {
  "kernelspec": {
   "display_name": "Python 3 (ipykernel)",
   "language": "python",
   "name": "python3"
  },
  "language_info": {
   "codemirror_mode": {
    "name": "ipython",
    "version": 3
   },
   "file_extension": ".py",
   "mimetype": "text/x-python",
   "name": "python",
   "nbconvert_exporter": "python",
   "pygments_lexer": "ipython3",
   "version": "3.11.4"
  }
 },
 "nbformat": 4,
 "nbformat_minor": 5
}
